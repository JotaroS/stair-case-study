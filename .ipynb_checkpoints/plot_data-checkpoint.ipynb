{
 "cells": [
  {
   "cell_type": "markdown",
   "id": "d6fe7adb-1e68-42d2-a9d8-03a97d265848",
   "metadata": {},
   "source": [
    "# Stair-case study analyzer\n",
    "\n",
    "__input__ = arrays of study data \n",
    "\n",
    "__output__=  PSEs and analysis"
   ]
  },
  {
   "cell_type": "code",
   "execution_count": 2,
   "id": "cc556aef-a37e-4489-80b4-86d6d3ff6f90",
   "metadata": {},
   "outputs": [],
   "source": [
    "data = [\n",
    "    [5,4,3,2,3,2,1,2,3,4,3,2,3],\n",
    "    [7,6,5,4,3,4,5,4,3,4,5,4,3,2,3,4],\n",
    "    [8,7,6,5,4,3,2,3,4,5,4,3,2,1,2,3,2,1,2,3]\n",
    "]"
   ]
  },
  {
   "cell_type": "code",
   "execution_count": 22,
   "id": "47336258-56b5-4b33-81ab-c5b5fd04604f",
   "metadata": {},
   "outputs": [],
   "source": [
    "def getLastNReversals(arr, n=3):\n",
    "    prev_a = 0\n",
    "    down = False\n",
    "    ret = []\n",
    "    for idx, a in enumerate(arr):\n",
    "        if idx==0:\n",
    "            prev_a = a\n",
    "            continue\n",
    "        elif idx==1:\n",
    "            if prev_a > a: down = True\n",
    "            else:          down = False\n",
    "            prev_a = a\n",
    "            continue\n",
    "        else:\n",
    "            if (down == True) and (prev_a < a):\n",
    "                down = False\n",
    "                ret.append(prev_a)\n",
    "            elif (down == False) and (prev_a > a):\n",
    "                down = True\n",
    "                ret.append(prev_a)\n",
    "        if len(ret) >= n:\n",
    "            return ret\n",
    "        prev_a = a\n",
    "    return ret"
   ]
  },
  {
   "cell_type": "code",
   "execution_count": 23,
   "id": "2783c579-0bc3-4e11-a56f-b2c3c7bf19e9",
   "metadata": {},
   "outputs": [
    {
     "data": {
      "text/plain": [
       "[2, 3, 1, 4, 2]"
      ]
     },
     "execution_count": 23,
     "metadata": {},
     "output_type": "execute_result"
    }
   ],
   "source": [
    "getLastNReversals(data[0], n=5)"
   ]
  },
  {
   "cell_type": "code",
   "execution_count": 26,
   "id": "64382db6-7e1a-461a-bc86-a2821d418d17",
   "metadata": {},
   "outputs": [
    {
     "name": "stdout",
     "output_type": "stream",
     "text": [
      "[2, 3, 1]\n",
      "[3, 5, 3]\n",
      "[2, 5, 1]\n"
     ]
    },
    {
     "data": {
      "text/plain": [
       "[2.0, 3.6666666666666665, 2.6666666666666665]"
      ]
     },
     "execution_count": 26,
     "metadata": {},
     "output_type": "execute_result"
    }
   ],
   "source": [
    "def getPSEs(data, n=3):\n",
    "    ret = []\n",
    "    for d in data:\n",
    "        revs = getLastNReversals(d, n)\n",
    "        print(revs)\n",
    "        if len(revs) != 0:\n",
    "            ret.append(sum(revs) / len(revs))\n",
    "    return ret\n",
    "getPSEs(data)"
   ]
  },
  {
   "cell_type": "code",
   "execution_count": null,
   "id": "9dba0622-1907-458d-adba-298d233a010e",
   "metadata": {},
   "outputs": [],
   "source": []
  }
 ],
 "metadata": {
  "kernelspec": {
   "display_name": "Python 3",
   "language": "python",
   "name": "python3"
  },
  "language_info": {
   "codemirror_mode": {
    "name": "ipython",
    "version": 3
   },
   "file_extension": ".py",
   "mimetype": "text/x-python",
   "name": "python",
   "nbconvert_exporter": "python",
   "pygments_lexer": "ipython3",
   "version": "3.8.8"
  }
 },
 "nbformat": 4,
 "nbformat_minor": 5
}
