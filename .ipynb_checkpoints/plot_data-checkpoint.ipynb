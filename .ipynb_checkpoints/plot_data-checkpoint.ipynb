{
 "cells": [
  {
   "cell_type": "markdown",
   "id": "22efe6c7",
   "metadata": {},
   "source": [
    "# Stair-case study analyzer\n",
    "\n",
    "__input__ = arrays of study data \n",
    "\n",
    "__output__=  PSEs and analysis"
   ]
  },
  {
   "cell_type": "code",
   "execution_count": 1,
   "id": "3a2c11bb",
   "metadata": {},
   "outputs": [],
   "source": [
    "import numpy as np\n",
    "import pandas as pd\n",
    "import matplotlib.pyplot as plt\n",
    "import seaborn as sns\n",
    "\n",
    "from scipy.stats import wilcoxon\n",
    "\n",
    "%matplotlib inline"
   ]
  },
  {
   "cell_type": "code",
   "execution_count": 107,
   "id": "660f519e",
   "metadata": {},
   "outputs": [
    {
     "name": "stderr",
     "output_type": "stream",
     "text": [
      "<ipython-input-107-c986f76ce30c>:16: VisibleDeprecationWarning: Creating an ndarray from ragged nested sequences (which is a list-or-tuple of lists-or-tuples-or ndarrays with different lengths or shapes) is deprecated. If you meant to do this, you must specify 'dtype=object' when creating the ndarray\n",
      "  data_pref = np.array([\n",
      "<ipython-input-107-c986f76ce30c>:20: VisibleDeprecationWarning: Creating an ndarray from ragged nested sequences (which is a list-or-tuple of lists-or-tuples-or ndarrays with different lengths or shapes) is deprecated. If you meant to do this, you must specify 'dtype=object' when creating the ndarray\n",
      "  data_pref_2 = np.array([\n"
     ]
    },
    {
     "data": {
      "text/plain": [
       "array([list([2, 1.75, 1.5, 1.25, 1, 0.75, 1, 0.75]),\n",
       "       list([2, 1.75, 1.5, 1.25, 1, 0.75, 0.5, 0.25, 0, -0.25, -0.5, -0.75, -1])],\n",
       "      dtype=object)"
      ]
     },
     "execution_count": 107,
     "metadata": {},
     "output_type": "execute_result"
    }
   ],
   "source": [
    "data = [ # DUMMY DATA\n",
    "    [3,2.75,2.5,2.25,2,1.75,2,2.25,2],\n",
    "    [2,1.75,1.5,1.25,1,0.75,0.5,0.25,0,-0.25,0,-0.25,],\n",
    "    [2,1.75,1.5,1.25,1,0.75,1,0.75,], #after change\n",
    "#     [9,8,7,6,5,6,7,6,5,4,5,6,7,8,7,6,5,4,5,6,5,5],\n",
    "#     [9,8,7,7,6,5,4,5,6,7,6,5,4,5,6,7,8,7,6,5,4,3,4,5,6,7,6],\n",
    "#     [9,8,7,6,5,6,7,6,5,4,5,6,7,8,7,6,5,4,5,6,5,5],\n",
    "#     [9,8,7,7,6,5,4,5,6,7,6,5,4,5,6,7,8,7,6,5,4,3,4,5,6,7,6],\n",
    "#     [8,7,6,5,4,3,2,3,4,5,4,3,2,1,2,3,2,1,2,3],\n",
    "#     [9,8,7,6,5,6,7,6,5,4,5,6,7,8,7,6,5,4,5,6,5,5],\n",
    "#     [9,8,7,7,6,5,4,5,6,7,6,5,4,5,6,7,8,7,6,5,4,3,4,5,6,7,6],\n",
    "#     [9,8,7,6,5,6,7,6,5,4,5,6,7,8,7,6,5,4,5,6,5,5],\n",
    "#     [9,8,7,7,6,5,4,5,6,7,6,5,4,5,6,7,8,7,6,5,4,3,4,5,6,7,6],\n",
    "]\n",
    "\n",
    "data_pref =[\n",
    "    [2,1.75,1.5,1.25,1,0.75,1,0.75,], #abdullah\n",
    "    [2,1.75,1.5,1.25,1,0.75,0.5,0.25,0,-0.25,-0.5,-0.75,-1] #Paul\n",
    "]\n",
    "data_pref_2 = np.array[\n",
    "    [2,1.75,1.5,1.25,1,0.75,1,0.75], #abdullah\n",
    "    [2,2.25,2.5,2.75,3,2.75,2.5,2.25,2,1.75,1.5,1.25,1,1.25,] #Paul\n",
    "]\n",
    "data_2 = [ # DUMMY DATA\n",
    "    [3,2.75,2.5,2.25,2,1.75,1.5,1.25,1,1.25,1,0.75,1],\n",
    "    [2,1.75,1.5,1.25,1,0.75,0.5,0.25,0,0.25,0,],\n",
    "    [2,1.75,1.5,1.25,1,0.75,1,0.75,0.5], #after change\n",
    "    [2,2.25,2.5,2.75,3,2.75,2.5,2.25,2,1.75,1.5,1.25,1,1.25,] #Paul\n",
    "#     [7,6,5,4,3,4,5,4,3,4,5,4,3,4,3,4],\n",
    "#     [8,7,6,5,4,3,2,3,4,5,4,3,2,1,0,1,2,1,2,3],\n",
    "#     [9,8,7,6,5,4,3,4,5,4,3,2,3,4,5,6,5,4,3,2,3,4],\n",
    "#     [1,2,3,4,5,4,3,2,3,4,3,2,1,2,3,4,3,4,3,2,3,4],\n",
    "#     [5,4,3,4,3,2,1,2,3,4,3,2,3],\n",
    "#     [7,6,5,4,3,4,5,4,3,4,5,4,3,4,3,4],\n",
    "#     [8,7,6,5,4,3,2,3,4,5,4,3,2,1,0,1,2,1,2,3],\n",
    "#     [9,8,7,6,5,4,3,4,5,4,3,2,3,4,5,6,5,4,3,2,3,4],\n",
    "#     [1,2,3,4,5,4,3,2,3,4,3,2,1,2,3,4,3,4,3,2,3,4],\n",
    "]\n"
   ]
  },
  {
   "cell_type": "markdown",
   "id": "b6b2cbfa",
   "metadata": {},
   "source": [
    "## Utilities"
   ]
  },
  {
   "cell_type": "code",
   "execution_count": 102,
   "id": "ddaadda7",
   "metadata": {},
   "outputs": [],
   "source": [
    "def convertScaleToArea(s):\n",
    "    w = (0.5*s+1.5)\n",
    "    h = w*2/3.0\n",
    "    return w*h\n",
    "\n",
    "def getLastNReversals(arr, n=3):\n",
    "    prev_a = 0\n",
    "    down = False\n",
    "    ret = []\n",
    "    for idx, a in enumerate(arr):\n",
    "        if idx==0:\n",
    "            prev_a = a\n",
    "            continue\n",
    "        elif idx==1:\n",
    "            if prev_a > a: down = True\n",
    "            else:          down = False\n",
    "            prev_a = a\n",
    "            continue\n",
    "        else:\n",
    "            if (down == True) and (prev_a < a):\n",
    "                down = False\n",
    "                ret.append(prev_a)\n",
    "            elif (down == False) and (prev_a > a):\n",
    "                down = True\n",
    "                ret.append(prev_a)\n",
    "        if len(ret) >= n:\n",
    "            return ret\n",
    "        prev_a = a\n",
    "    return ret"
   ]
  },
  {
   "cell_type": "code",
   "execution_count": 103,
   "id": "709b9b4a",
   "metadata": {},
   "outputs": [],
   "source": [
    "def getPSEs(data, n=3):\n",
    "    ret = []\n",
    "    for d in data:\n",
    "        revs = getLastNReversals(d, n)\n",
    "#         print(revs)\n",
    "        if len(revs) != 0:\n",
    "            ret.append(sum(revs) / len(revs))\n",
    "    return ret\n",
    "def getPSE(data, n=3):\n",
    "    revs= getLastNReversals(data, n)\n",
    "    if len(revs) != 0:\n",
    "        return sum(revs) / len(revs)\n",
    "    else: return None"
   ]
  },
  {
   "cell_type": "code",
   "execution_count": 106,
   "id": "b6176b41",
   "metadata": {},
   "outputs": [
    {
     "ename": "TypeError",
     "evalue": "can't multiply sequence by non-int of type 'float'",
     "output_type": "error",
     "traceback": [
      "\u001b[0;31m---------------------------------------------------------------------------\u001b[0m",
      "\u001b[0;31mTypeError\u001b[0m                                 Traceback (most recent call last)",
      "\u001b[0;32m<ipython-input-106-04e35e1e2832>\u001b[0m in \u001b[0;36m<module>\u001b[0;34m\u001b[0m\n\u001b[1;32m     21\u001b[0m \u001b[0;32mfor\u001b[0m \u001b[0mi\u001b[0m \u001b[0;32min\u001b[0m \u001b[0mrange\u001b[0m\u001b[0;34m(\u001b[0m\u001b[0;36m0\u001b[0m\u001b[0;34m,\u001b[0m\u001b[0mlen\u001b[0m\u001b[0;34m(\u001b[0m\u001b[0mdata_pref\u001b[0m\u001b[0;34m)\u001b[0m\u001b[0;34m)\u001b[0m\u001b[0;34m:\u001b[0m\u001b[0;34m\u001b[0m\u001b[0;34m\u001b[0m\u001b[0m\n\u001b[1;32m     22\u001b[0m     \u001b[0mtitle\u001b[0m \u001b[0;34m=\u001b[0m \u001b[0;34m\"P\"\u001b[0m\u001b[0;34m+\u001b[0m\u001b[0mstr\u001b[0m\u001b[0;34m(\u001b[0m\u001b[0mi\u001b[0m\u001b[0;34m)\u001b[0m\u001b[0;34m\u001b[0m\u001b[0;34m\u001b[0m\u001b[0m\n\u001b[0;32m---> 23\u001b[0;31m     \u001b[0mplotStaircasePerParticipant\u001b[0m\u001b[0;34m(\u001b[0m\u001b[0mdata_pref\u001b[0m\u001b[0;34m[\u001b[0m\u001b[0mi\u001b[0m\u001b[0;34m]\u001b[0m\u001b[0;34m,\u001b[0m\u001b[0mdata_pref_2\u001b[0m\u001b[0;34m[\u001b[0m\u001b[0mi\u001b[0m\u001b[0;34m]\u001b[0m\u001b[0;34m,\u001b[0m \u001b[0mtitle\u001b[0m\u001b[0;34m)\u001b[0m\u001b[0;34m\u001b[0m\u001b[0;34m\u001b[0m\u001b[0m\n\u001b[0m\u001b[1;32m     24\u001b[0m \u001b[0;34m\u001b[0m\u001b[0m\n\u001b[1;32m     25\u001b[0m \u001b[0;31m# plotStaircase(data_2[1])\u001b[0m\u001b[0;34m\u001b[0m\u001b[0;34m\u001b[0m\u001b[0;34m\u001b[0m\u001b[0m\n",
      "\u001b[0;32m<ipython-input-106-04e35e1e2832>\u001b[0m in \u001b[0;36mplotStaircasePerParticipant\u001b[0;34m(arr1, arr2, title)\u001b[0m\n\u001b[1;32m     12\u001b[0m \u001b[0;31m#     y = arr\u001b[0m\u001b[0;34m\u001b[0m\u001b[0;34m\u001b[0m\u001b[0;34m\u001b[0m\u001b[0m\n\u001b[1;32m     13\u001b[0m     \u001b[0mfig\u001b[0m\u001b[0;34m,\u001b[0m \u001b[0max\u001b[0m \u001b[0;34m=\u001b[0m \u001b[0mplt\u001b[0m\u001b[0;34m.\u001b[0m\u001b[0msubplots\u001b[0m\u001b[0;34m(\u001b[0m\u001b[0;34m)\u001b[0m\u001b[0;34m\u001b[0m\u001b[0;34m\u001b[0m\u001b[0m\n\u001b[0;32m---> 14\u001b[0;31m     \u001b[0mg\u001b[0m \u001b[0;34m=\u001b[0m \u001b[0msns\u001b[0m\u001b[0;34m.\u001b[0m\u001b[0mlineplot\u001b[0m\u001b[0;34m(\u001b[0m\u001b[0mx\u001b[0m\u001b[0;34m=\u001b[0m\u001b[0mrange\u001b[0m\u001b[0;34m(\u001b[0m\u001b[0;36m1\u001b[0m\u001b[0;34m,\u001b[0m \u001b[0mlen\u001b[0m\u001b[0;34m(\u001b[0m\u001b[0marr1\u001b[0m\u001b[0;34m)\u001b[0m\u001b[0;34m+\u001b[0m\u001b[0;36m1\u001b[0m\u001b[0;34m)\u001b[0m\u001b[0;34m,\u001b[0m \u001b[0my\u001b[0m\u001b[0;34m=\u001b[0m\u001b[0mconvertScaleToArea\u001b[0m\u001b[0;34m(\u001b[0m\u001b[0marr1\u001b[0m\u001b[0;34m)\u001b[0m\u001b[0;34m,\u001b[0m \u001b[0mmarker\u001b[0m\u001b[0;34m=\u001b[0m\u001b[0;34m\"o\"\u001b[0m\u001b[0;34m,\u001b[0m \u001b[0mlabel\u001b[0m\u001b[0;34m=\u001b[0m\u001b[0;34m\"off v.s. walkable\"\u001b[0m\u001b[0;34m)\u001b[0m\u001b[0;34m\u001b[0m\u001b[0;34m\u001b[0m\u001b[0m\n\u001b[0m\u001b[1;32m     15\u001b[0m     \u001b[0mg\u001b[0m \u001b[0;34m=\u001b[0m \u001b[0msns\u001b[0m\u001b[0;34m.\u001b[0m\u001b[0mlineplot\u001b[0m\u001b[0;34m(\u001b[0m\u001b[0mx\u001b[0m\u001b[0;34m=\u001b[0m\u001b[0mrange\u001b[0m\u001b[0;34m(\u001b[0m\u001b[0;36m1\u001b[0m\u001b[0;34m,\u001b[0m \u001b[0mlen\u001b[0m\u001b[0;34m(\u001b[0m\u001b[0marr2\u001b[0m\u001b[0;34m)\u001b[0m\u001b[0;34m+\u001b[0m\u001b[0;36m1\u001b[0m\u001b[0;34m)\u001b[0m\u001b[0;34m,\u001b[0m \u001b[0my\u001b[0m\u001b[0;34m=\u001b[0m\u001b[0mconvertScaleToArea\u001b[0m\u001b[0;34m(\u001b[0m\u001b[0marr2\u001b[0m\u001b[0;34m)\u001b[0m\u001b[0;34m,\u001b[0m \u001b[0mmarker\u001b[0m\u001b[0;34m=\u001b[0m\u001b[0;34m\"o\"\u001b[0m\u001b[0;34m,\u001b[0m \u001b[0mlabel\u001b[0m\u001b[0;34m=\u001b[0m\u001b[0;34m\"arm v.s. walkable\"\u001b[0m\u001b[0;34m,\u001b[0m \u001b[0mlinestyle\u001b[0m\u001b[0;34m=\u001b[0m\u001b[0;34m\"--\"\u001b[0m\u001b[0;34m)\u001b[0m\u001b[0;34m\u001b[0m\u001b[0;34m\u001b[0m\u001b[0m\n\u001b[1;32m     16\u001b[0m     \u001b[0;32mif\u001b[0m\u001b[0;34m(\u001b[0m\u001b[0mgetPSE\u001b[0m\u001b[0;34m(\u001b[0m\u001b[0marr1\u001b[0m\u001b[0;34m,\u001b[0m \u001b[0;36m2\u001b[0m\u001b[0;34m)\u001b[0m\u001b[0;34m!=\u001b[0m\u001b[0;32mNone\u001b[0m\u001b[0;34m)\u001b[0m\u001b[0;34m:\u001b[0m\u001b[0mg\u001b[0m\u001b[0;34m.\u001b[0m\u001b[0maxhline\u001b[0m\u001b[0;34m(\u001b[0m\u001b[0mgetPSE\u001b[0m\u001b[0;34m(\u001b[0m\u001b[0marr1\u001b[0m\u001b[0;34m,\u001b[0m \u001b[0;36m2\u001b[0m\u001b[0;34m)\u001b[0m\u001b[0;34m)\u001b[0m\u001b[0;34m\u001b[0m\u001b[0;34m\u001b[0m\u001b[0m\n",
      "\u001b[0;32m<ipython-input-102-7bb9350f59b0>\u001b[0m in \u001b[0;36mconvertScaleToArea\u001b[0;34m(s)\u001b[0m\n\u001b[1;32m      1\u001b[0m \u001b[0;32mdef\u001b[0m \u001b[0mconvertScaleToArea\u001b[0m\u001b[0;34m(\u001b[0m\u001b[0ms\u001b[0m\u001b[0;34m)\u001b[0m\u001b[0;34m:\u001b[0m\u001b[0;34m\u001b[0m\u001b[0;34m\u001b[0m\u001b[0m\n\u001b[0;32m----> 2\u001b[0;31m     \u001b[0mw\u001b[0m \u001b[0;34m=\u001b[0m \u001b[0;34m(\u001b[0m\u001b[0;36m0.5\u001b[0m\u001b[0;34m*\u001b[0m\u001b[0ms\u001b[0m\u001b[0;34m+\u001b[0m\u001b[0;36m1.5\u001b[0m\u001b[0;34m)\u001b[0m\u001b[0;34m\u001b[0m\u001b[0;34m\u001b[0m\u001b[0m\n\u001b[0m\u001b[1;32m      3\u001b[0m     \u001b[0mh\u001b[0m \u001b[0;34m=\u001b[0m \u001b[0mw\u001b[0m\u001b[0;34m*\u001b[0m\u001b[0;36m2\u001b[0m\u001b[0;34m/\u001b[0m\u001b[0;36m3.0\u001b[0m\u001b[0;34m\u001b[0m\u001b[0;34m\u001b[0m\u001b[0m\n\u001b[1;32m      4\u001b[0m     \u001b[0;32mreturn\u001b[0m \u001b[0mw\u001b[0m\u001b[0;34m*\u001b[0m\u001b[0mh\u001b[0m\u001b[0;34m\u001b[0m\u001b[0;34m\u001b[0m\u001b[0m\n\u001b[1;32m      5\u001b[0m \u001b[0;34m\u001b[0m\u001b[0m\n",
      "\u001b[0;31mTypeError\u001b[0m: can't multiply sequence by non-int of type 'float'"
     ]
    },
    {
     "data": {
      "image/png": "[encoded data removed]",
      "text/plain": [
       "<Figure size 432x288 with 1 Axes>"
      ]
     },
     "metadata": {
      "needs_background": "light"
     },
     "output_type": "display_data"
    }
   ],
   "source": [
    "def plotStaircase(arr):\n",
    "    x = range(1, len(arr)+1)\n",
    "    y = convertScaleToArea(arr)\n",
    "    fig, ax = plt.subplots()\n",
    "    g = sns.lineplot(x=x, y=y, marker=\"o\")\n",
    "    g.axhline(getPSE(arr, 2))\n",
    "    \n",
    "    plt.show()\n",
    "    \n",
    "def plotStaircasePerParticipant(arr1, arr2, title=\"\"):\n",
    "#     x = range(1, len(arr)+1)\n",
    "#     y = arr\n",
    "    fig, ax = plt.subplots()\n",
    "    g = sns.lineplot(x=range(1, len(arr1)+1), y=arr1, marker=\"o\", label=\"off v.s. walkable\")\n",
    "    g = sns.lineplot(x=range(1, len(arr2)+1), y=arr2, marker=\"o\", label=\"arm v.s. walkable\", linestyle=\"--\")\n",
    "    if(getPSE(arr1, 2)!=None):g.axhline(getPSE(arr1, 2))\n",
    "    if(getPSE(arr2, 2)!=None):g.axhline(getPSE(arr2, 2))\n",
    "    plt.title(title)\n",
    "    plt.show()\n",
    "    \n",
    "for i in range(0,len(data_pref)):\n",
    "    title = \"P\"+str(i)\n",
    "    plotStaircasePerParticipant(data_pref[i],data_pref_2[i], title)\n",
    "    \n",
    "# plotStaircase(data_2[1])\n"
   ]
  },
  {
   "cell_type": "markdown",
   "id": "62a6f6f6",
   "metadata": {},
   "source": [
    "## stat-test\n",
    "\n",
    "### Wilcoxon test (non-parametric test)"
   ]
  },
  {
   "cell_type": "code",
   "execution_count": 105,
   "id": "6646f2a9",
   "metadata": {},
   "outputs": [
    {
     "ename": "ValueError",
     "evalue": "The samples x and y must have the same length.",
     "output_type": "error",
     "traceback": [
      "\u001b[0;31m---------------------------------------------------------------------------\u001b[0m",
      "\u001b[0;31mValueError\u001b[0m                                Traceback (most recent call last)",
      "\u001b[0;32m<ipython-input-105-ae0246b656ab>\u001b[0m in \u001b[0;36m<module>\u001b[0;34m\u001b[0m\n\u001b[0;32m----> 1\u001b[0;31m \u001b[0mtitle\u001b[0m \u001b[0;34m=\u001b[0m \u001b[0mwilcoxon\u001b[0m\u001b[0;34m(\u001b[0m\u001b[0mgetPSEs\u001b[0m\u001b[0;34m(\u001b[0m\u001b[0mdata\u001b[0m\u001b[0;34m,\u001b[0m\u001b[0;36m5\u001b[0m\u001b[0;34m)\u001b[0m\u001b[0;34m,\u001b[0m \u001b[0mgetPSEs\u001b[0m\u001b[0;34m(\u001b[0m\u001b[0mdata_2\u001b[0m\u001b[0;34m,\u001b[0m\u001b[0;36m5\u001b[0m\u001b[0;34m)\u001b[0m\u001b[0;34m)\u001b[0m\u001b[0;34m\u001b[0m\u001b[0;34m\u001b[0m\u001b[0m\n\u001b[0m",
      "\u001b[0;32m~/opt/anaconda3/lib/python3.8/site-packages/scipy/stats/morestats.py\u001b[0m in \u001b[0;36mwilcoxon\u001b[0;34m(x, y, zero_method, correction, alternative, mode)\u001b[0m\n\u001b[1;32m   2953\u001b[0m             \u001b[0;32mraise\u001b[0m \u001b[0mValueError\u001b[0m\u001b[0;34m(\u001b[0m\u001b[0;34m'Samples x and y must be one-dimensional.'\u001b[0m\u001b[0;34m)\u001b[0m\u001b[0;34m\u001b[0m\u001b[0;34m\u001b[0m\u001b[0m\n\u001b[1;32m   2954\u001b[0m         \u001b[0;32mif\u001b[0m \u001b[0mlen\u001b[0m\u001b[0;34m(\u001b[0m\u001b[0mx\u001b[0m\u001b[0;34m)\u001b[0m \u001b[0;34m!=\u001b[0m \u001b[0mlen\u001b[0m\u001b[0;34m(\u001b[0m\u001b[0my\u001b[0m\u001b[0;34m)\u001b[0m\u001b[0;34m:\u001b[0m\u001b[0;34m\u001b[0m\u001b[0;34m\u001b[0m\u001b[0m\n\u001b[0;32m-> 2955\u001b[0;31m             \u001b[0;32mraise\u001b[0m \u001b[0mValueError\u001b[0m\u001b[0;34m(\u001b[0m\u001b[0;34m'The samples x and y must have the same length.'\u001b[0m\u001b[0;34m)\u001b[0m\u001b[0;34m\u001b[0m\u001b[0;34m\u001b[0m\u001b[0m\n\u001b[0m\u001b[1;32m   2956\u001b[0m         \u001b[0md\u001b[0m \u001b[0;34m=\u001b[0m \u001b[0mx\u001b[0m \u001b[0;34m-\u001b[0m \u001b[0my\u001b[0m\u001b[0;34m\u001b[0m\u001b[0;34m\u001b[0m\u001b[0m\n\u001b[1;32m   2957\u001b[0m \u001b[0;34m\u001b[0m\u001b[0m\n",
      "\u001b[0;31mValueError\u001b[0m: The samples x and y must have the same length."
     ]
    }
   ],
   "source": [
    "title = wilcoxon(getPSEs(data,5), getPSEs(data_2,5))"
   ]
  },
  {
   "cell_type": "code",
   "execution_count": null,
   "id": "8aa222c8",
   "metadata": {},
   "outputs": [],
   "source": [
    "plt.title(title)\n",
    "sns.barplot(data=[getPSEs(data,5), getPSEs(data_2,5)])"
   ]
  },
  {
   "cell_type": "code",
   "execution_count": 13,
   "id": "69b862a8",
   "metadata": {},
   "outputs": [
    {
     "data": {
      "text/plain": [
       "<AxesSubplot:title={'center':'WilcoxonResult(statistic=1.0, pvalue=1.0)'}>"
      ]
     },
     "execution_count": 13,
     "metadata": {},
     "output_type": "execute_result"
    },
    {
     "data": {
      "image/png": "[encoded data removed]",
      "text/plain": [
       "<Figure size 432x288 with 1 Axes>"
      ]
     },
     "metadata": {
      "needs_background": "light"
     },
     "output_type": "display_data"
    }
   ],
   "source": [
    "plt.title(title)\n",
    "sns.violinplot(data=[getPSEs(data,5), getPSEs(data_2,5)])"
   ]
  },
  {
   "cell_type": "code",
   "execution_count": null,
   "id": "b2f5bc20",
   "metadata": {},
   "outputs": [],
   "source": []
  }
 ],
 "metadata": {
  "kernelspec": {
   "display_name": "Python 3",
   "language": "python",
   "name": "python3"
  },
  "language_info": {
   "codemirror_mode": {
    "name": "ipython",
    "version": 3
   },
   "file_extension": ".py",
   "mimetype": "text/x-python",
   "name": "python",
   "nbconvert_exporter": "python",
   "pygments_lexer": "ipython3",
   "version": "3.8.8"
  }
 },
 "nbformat": 4,
 "nbformat_minor": 5
}
