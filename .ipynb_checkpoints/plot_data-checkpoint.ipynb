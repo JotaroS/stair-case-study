{
 "cells": [
  {
   "cell_type": "markdown",
   "id": "22efe6c7",
   "metadata": {},
   "source": [
    "# Stair-case study analyzer\n",
    "\n",
    "__input__ = arrays of study data \n",
    "\n",
    "__output__=  PSEs and analysis"
   ]
  },
  {
   "cell_type": "code",
   "execution_count": 2,
   "id": "3a2c11bb",
   "metadata": {},
   "outputs": [],
   "source": [
    "import numpy as np\n",
    "import pandas as pd\n",
    "import matplotlib.pyplot as plt\n",
    "import seaborn as sns\n",
    "\n",
    "from scipy.stats import wilcoxon\n",
    "\n",
    "%matplotlib inline"
   ]
  },
  {
   "cell_type": "code",
   "execution_count": 107,
   "id": "660f519e",
   "metadata": {},
   "outputs": [],
   "source": [
    "data = [ # DUMMY DATA\n",
    "    [3,2.75,2.5,2.25,2,1.75,2,2.25,2],\n",
    "    [2,1.75,1.5,1.25,1,0.75,0.5,0.25,0,-0.25,0,-0.25,],\n",
    "    [2,1.75,1.5,1.25,1,0.75,1,0.75,], #after change\n",
    "#     [9,8,7,6,5,6,7,6,5,4,5,6,7,8,7,6,5,4,5,6,5,5],\n",
    "#     [9,8,7,7,6,5,4,5,6,7,6,5,4,5,6,7,8,7,6,5,4,3,4,5,6,7,6],\n",
    "#     [9,8,7,6,5,6,7,6,5,4,5,6,7,8,7,6,5,4,5,6,5,5],\n",
    "#     [9,8,7,7,6,5,4,5,6,7,6,5,4,5,6,7,8,7,6,5,4,3,4,5,6,7,6],\n",
    "#     [8,7,6,5,4,3,2,3,4,5,4,3,2,1,2,3,2,1,2,3],\n",
    "#     [9,8,7,6,5,6,7,6,5,4,5,6,7,8,7,6,5,4,5,6,5,5],\n",
    "#     [9,8,7,7,6,5,4,5,6,7,6,5,4,5,6,7,8,7,6,5,4,3,4,5,6,7,6],\n",
    "#     [9,8,7,6,5,6,7,6,5,4,5,6,7,8,7,6,5,4,5,6,5,5],\n",
    "#     [9,8,7,7,6,5,4,5,6,7,6,5,4,5,6,7,8,7,6,5,4,3,4,5,6,7,6],\n",
    "]\n",
    "\n",
    "data_pref =[\n",
    "#     [2,1.75,1.5,1.25,1,0.75,1,0.75,], #abdullah\n",
    "#     [2,1.75,1.5,1.25,1,0.75,0.5,0.25,0,-0.25,-0.5,-0.75,-1], #Paul\n",
    "#     [2,1.75,1.5,1.25,1,1.25,1,], #marten\n",
    "#     [2,1.75,1.5,1.25,1,0.75,0.5,0.25,0,-0.25,0,0.25,0.5,0.25,], #chiara\n",
    "    [0,0.25,0.5,0.75,0.5,0.75], # Robert\n",
    "    [0,0.25,0.5,0.75,1,1.25,1.5,1.25,1.5,], # Max\n",
    "]\n",
    "data_pref_2 = [\n",
    "#     [2,1.75,1.5,1.25,1,0.75,1,0.75], #abdullah\n",
    "#     [2,2.25,2.5,2.75,3,], #Paul\n",
    "#     [2,1.75,2,2.25,2.5,2.75,], # marten\n",
    "#     [2,2.25,2,1.75,1.5,1.25,1,0.75]\n",
    "]\n",
    "participants=[\"Robert Kosmehl\", \"Max Litze\"]\n",
    "\n",
    "feedback = [\n",
    "    \"liked glass because felt open, but felt like confined when glass cabin was smaller, at that time i liked wood cabin.\",\n",
    "    \"in the first i didn’t like the glass too close, but wood cabin was claustrophobic,. In the end, overall, glass was more spacious.\"\n",
    "]\n",
    "\n",
    "\n",
    "feedback_old=[\n",
    "    \"\",\n",
    "    \"I liked throwing task all the way. \\n I didn't like the arm-space task because i felt like 'I had to go'. \",\n",
    "    \"I liked the throwing bottles, I had the most fun figuring out which throw movements would lead to which trajectory. \\n Didn't like arm-space. I did not like how far I had to reach \\n the edges of the counter. It felt nicer and more in flow to reach the inner containers. Also I could do this much faster which was a nice chellange\",\n",
    "    \"I liked throwing bottles than putting bottoles on the box inside the counter (yes) because it feels like I am doing sports. It was a good challenge, not too hard, but also not too easy. I do not liked it when the box inside got too small. Then I felt like I could not move any more and so it also doesn’t feel like doing sports anymore.\\n I liked putting bottles on the edge of counter than putting bottoles on the box inside (yes / no, because: I liked it, while the box was larger. Then I needed to move. It was boring, while the box was smaller and I did not even needed to take a step on the right direction.\"\n",
    "]\n",
    "\n",
    "data_2 = [ # DUMMY DATA\n",
    "    [3,2.75,2.5,2.25,2,1.75,1.5,1.25,1,1.25,1,0.75,1],\n",
    "    [2,1.75,1.5,1.25,1,0.75,0.5,0.25,0,0.25,0,],\n",
    "    [2,1.75,1.5,1.25,1,0.75,1,0.75,0.5], #after change\n",
    "    [2,2.25,2.5,2.75,3,2.75,2.5,2.25,2,1.75,1.5,1.25,1,] #Paul\n",
    "#     [7,6,5,4,3,4,5,4,3,4,5,4,3,4,3,4],\n",
    "#     [8,7,6,5,4,3,2,3,4,5,4,3,2,1,0,1,2,1,2,3],\n",
    "#     [9,8,7,6,5,4,3,4,5,4,3,2,3,4,5,6,5,4,3,2,3,4],\n",
    "#     [1,2,3,4,5,4,3,2,3,4,3,2,1,2,3,4,3,4,3,2,3,4],\n",
    "#     [5,4,3,4,3,2,1,2,3,4,3,2,3],\n",
    "#     [7,6,5,4,3,4,5,4,3,4,5,4,3,4,3,4],\n",
    "#     [8,7,6,5,4,3,2,3,4,5,4,3,2,1,0,1,2,1,2,3],\n",
    "#     [9,8,7,6,5,4,3,4,5,4,3,2,3,4,5,6,5,4,3,2,3,4],\n",
    "#     [1,2,3,4,5,4,3,2,3,4,3,2,1,2,3,4,3,4,3,2,3,4],\n",
    "]\n"
   ]
  },
  {
   "cell_type": "markdown",
   "id": "b6b2cbfa",
   "metadata": {},
   "source": [
    "## Utilities"
   ]
  },
  {
   "cell_type": "code",
   "execution_count": 108,
   "id": "ddaadda7",
   "metadata": {},
   "outputs": [],
   "source": [
    "def convertScaleToArea(s):\n",
    "    s = np.array(s)\n",
    "    w = (0.5*s+1.5)\n",
    "    h = w*2/3.0\n",
    "    return w*h\n",
    "\n",
    "def getLastNReversals(arr, n=3):\n",
    "    prev_a = 0\n",
    "    down = False\n",
    "    ret = []\n",
    "    for idx, a in enumerate(arr):\n",
    "        if idx==0:\n",
    "            prev_a = a\n",
    "            continue\n",
    "        elif idx==1:\n",
    "            if prev_a > a: down = True\n",
    "            else:          down = False\n",
    "            prev_a = a\n",
    "            continue\n",
    "        else:\n",
    "            if (down == True) and (prev_a < a):\n",
    "                down = False\n",
    "                ret.append(prev_a)\n",
    "            elif (down == False) and (prev_a > a):\n",
    "                down = True\n",
    "                ret.append(prev_a)\n",
    "        if len(ret) >= n:\n",
    "            return ret\n",
    "        prev_a = a\n",
    "    return ret"
   ]
  },
  {
   "cell_type": "code",
   "execution_count": 109,
   "id": "709b9b4a",
   "metadata": {},
   "outputs": [],
   "source": [
    "def getPSEs(data, n=3):\n",
    "    ret = []\n",
    "    for d in data:\n",
    "        revs = getLastNReversals(d, n)\n",
    "#         print(revs)\n",
    "        if len(revs) != 0:\n",
    "            ret.append(sum(revs) / len(revs))\n",
    "    return ret\n",
    "def getPSE(data, n=3):\n",
    "    revs= getLastNReversals(data, n)\n",
    "    if len(revs) != 0:\n",
    "        return sum(revs) / len(revs)\n",
    "    else: return data[-1]"
   ]
  },
  {
   "cell_type": "code",
   "execution_count": 110,
   "id": "b6176b41",
   "metadata": {
    "scrolled": true
   },
   "outputs": [],
   "source": [
    "def plotStaircase(arr, title =\"\", feedback=\"\"):\n",
    "    x = range(1, len(arr)+1)\n",
    "    y = convertScaleToArea(arr)\n",
    "    fig, ax = plt.subplots()\n",
    "    g = sns.lineplot(x=x, y=y, marker=\"o\")\n",
    "    g.axhline(getPSE(y, 3))\n",
    "    g.axhline(getPSE(convertScaleToArea([0])), color='red', linestyle=\"--\", label='area of walkable space interaction')\n",
    "    plt.ylim(0.0,4.0)\n",
    "    plt.xlim(0.0,10.0)\n",
    "    plt.title(title)\n",
    "    plt.show()\n",
    "    \n",
    "def plotStaircasePerParticipant(arr1, arr2, title=\"\", feedback=\"\"):\n",
    "#     x = range(1, len(arr)+1)\n",
    "#     y = arr\n",
    "    fig, ax = plt.subplots()\n",
    "    g = sns.lineplot(x=range(1, len(arr1)+1), y=convertScaleToArea(arr1), marker=\"o\", label=\"off v.s. walkable\")\n",
    "    g = sns.lineplot(x=range(1, len(arr2)+1), y=convertScaleToArea(arr2), marker=\"o\", label=\"arm v.s. walkable\", linestyle=\"--\")\n",
    "    g.axhline(getPSE(convertScaleToArea(arr1), 2))\n",
    "    g.axhline(getPSE(convertScaleToArea(arr2), 2), color='orange')\n",
    "    \n",
    "    g.axhline(getPSE(convertScaleToArea([1.5])), color='red', linestyle=\"--\", label='area of walkable space interaction')\n",
    "    plt.legend()\n",
    "    plt.title(title, size =15)\n",
    "    plt.xlabel(\"Trials\", size = 15)\n",
    "    plt.ylabel(\"Area of off-space interaction\", size = 15)\n",
    "    plt.ylim(0.0,7.0)\n",
    "    plt.axis([0, 10, 0, 10])\n",
    "#     plt.text(10,6,feedback, fontsize = 12, ha='left', wrap=True)\n",
    "    plt.show()\n",
    "    print(feedback)\n",
    "    \n",
    "# for i in range(0,len(data_pref)):\n",
    "#     title = \"P\"+str(i)\n",
    "#     plotStaircasePerParticipant(data_pref[i],data_pref_2[i], title, feedback[i])\n",
    "    \n",
    "# plotStaircase(data_2[1])"
   ]
  },
  {
   "cell_type": "markdown",
   "id": "62a6f6f6",
   "metadata": {},
   "source": [
    "## stat-test\n",
    "\n",
    "### Wilcoxon test (non-parametric test)"
   ]
  },
  {
   "cell_type": "code",
   "execution_count": 111,
   "id": "6646f2a9",
   "metadata": {},
   "outputs": [
    {
     "ename": "ValueError",
     "evalue": "The samples x and y must have the same length.",
     "output_type": "error",
     "traceback": [
      "\u001b[0;31m---------------------------------------------------------------------------\u001b[0m",
      "\u001b[0;31mValueError\u001b[0m                                Traceback (most recent call last)",
      "\u001b[0;32m<ipython-input-111-9b12e1f518f8>\u001b[0m in \u001b[0;36m<module>\u001b[0;34m\u001b[0m\n\u001b[0;32m----> 1\u001b[0;31m \u001b[0mtitle\u001b[0m \u001b[0;34m=\u001b[0m \u001b[0mwilcoxon\u001b[0m\u001b[0;34m(\u001b[0m\u001b[0mgetPSEs\u001b[0m\u001b[0;34m(\u001b[0m\u001b[0mdata_pref\u001b[0m\u001b[0;34m,\u001b[0m\u001b[0;36m2\u001b[0m\u001b[0;34m)\u001b[0m\u001b[0;34m,\u001b[0m \u001b[0mgetPSEs\u001b[0m\u001b[0;34m(\u001b[0m\u001b[0mdata_pref_2\u001b[0m\u001b[0;34m,\u001b[0m\u001b[0;36m2\u001b[0m\u001b[0;34m)\u001b[0m\u001b[0;34m)\u001b[0m\u001b[0;34m\u001b[0m\u001b[0;34m\u001b[0m\u001b[0m\n\u001b[0m",
      "\u001b[0;32m~/opt/anaconda3/lib/python3.8/site-packages/scipy/stats/morestats.py\u001b[0m in \u001b[0;36mwilcoxon\u001b[0;34m(x, y, zero_method, correction, alternative, mode)\u001b[0m\n\u001b[1;32m   2953\u001b[0m             \u001b[0;32mraise\u001b[0m \u001b[0mValueError\u001b[0m\u001b[0;34m(\u001b[0m\u001b[0;34m'Samples x and y must be one-dimensional.'\u001b[0m\u001b[0;34m)\u001b[0m\u001b[0;34m\u001b[0m\u001b[0;34m\u001b[0m\u001b[0m\n\u001b[1;32m   2954\u001b[0m         \u001b[0;32mif\u001b[0m \u001b[0mlen\u001b[0m\u001b[0;34m(\u001b[0m\u001b[0mx\u001b[0m\u001b[0;34m)\u001b[0m \u001b[0;34m!=\u001b[0m \u001b[0mlen\u001b[0m\u001b[0;34m(\u001b[0m\u001b[0my\u001b[0m\u001b[0;34m)\u001b[0m\u001b[0;34m:\u001b[0m\u001b[0;34m\u001b[0m\u001b[0;34m\u001b[0m\u001b[0m\n\u001b[0;32m-> 2955\u001b[0;31m             \u001b[0;32mraise\u001b[0m \u001b[0mValueError\u001b[0m\u001b[0;34m(\u001b[0m\u001b[0;34m'The samples x and y must have the same length.'\u001b[0m\u001b[0;34m)\u001b[0m\u001b[0;34m\u001b[0m\u001b[0;34m\u001b[0m\u001b[0m\n\u001b[0m\u001b[1;32m   2956\u001b[0m         \u001b[0md\u001b[0m \u001b[0;34m=\u001b[0m \u001b[0mx\u001b[0m \u001b[0;34m-\u001b[0m \u001b[0my\u001b[0m\u001b[0;34m\u001b[0m\u001b[0;34m\u001b[0m\u001b[0m\n\u001b[1;32m   2957\u001b[0m \u001b[0;34m\u001b[0m\u001b[0m\n",
      "\u001b[0;31mValueError\u001b[0m: The samples x and y must have the same length."
     ]
    }
   ],
   "source": [
    "title = wilcoxon(getPSEs(data_pref,2), getPSEs(data_pref_2,2))"
   ]
  },
  {
   "cell_type": "code",
   "execution_count": 112,
   "id": "8aa222c8",
   "metadata": {},
   "outputs": [
    {
     "data": {
      "text/plain": [
       "<AxesSubplot:title={'center':'P0'}>"
      ]
     },
     "execution_count": 112,
     "metadata": {},
     "output_type": "execute_result"
    },
    {
     "data": {
      "image/png": "[encoded data removed]",
      "text/plain": [
       "<Figure size 432x288 with 1 Axes>"
      ]
     },
     "metadata": {
      "needs_background": "light"
     },
     "output_type": "display_data"
    }
   ],
   "source": [
    "plt.title(title)\n",
    "sns.barplot(data=[getPSEs(data,5), getPSEs(data_2,5)])"
   ]
  },
  {
   "cell_type": "code",
   "execution_count": 113,
   "id": "69b862a8",
   "metadata": {},
   "outputs": [
    {
     "data": {
      "text/plain": [
       "<AxesSubplot:title={'center':'P0'}>"
      ]
     },
     "execution_count": 113,
     "metadata": {},
     "output_type": "execute_result"
    },
    {
     "data": {
      "image/png": "[encoded data removed]",
      "text/plain": [
       "<Figure size 432x288 with 1 Axes>"
      ]
     },
     "metadata": {
      "needs_background": "light"
     },
     "output_type": "display_data"
    }
   ],
   "source": [
    "plt.title(title)\n",
    "sns.violinplot(data=[getPSEs(data,5), getPSEs(data_2,5)])"
   ]
  },
  {
   "cell_type": "markdown",
   "id": "10dd1bf2",
   "metadata": {},
   "source": [
    "# feedback\n",
    "\n",
    "- generally \n",
    "- asking preferences : too large scope (fun / fatigue), arm-space probably affected by fatigue, which is problematic.\n",
    "- asking spaciousness : (look for RW) give 2 sentences clear \n",
    "- asking more enjoyable?\n",
    "- \n"
   ]
  },
  {
   "cell_type": "code",
   "execution_count": 114,
   "id": "ba26c6a6",
   "metadata": {},
   "outputs": [
    {
     "data": {
      "image/png": "[encoded data removed]",
      "text/plain": [
       "<Figure size 432x288 with 1 Axes>"
      ]
     },
     "metadata": {
      "needs_background": "light"
     },
     "output_type": "display_data"
    },
    {
     "data": {
      "image/png": "[encoded data removed]",
      "text/plain": [
       "<Figure size 432x288 with 1 Axes>"
      ]
     },
     "metadata": {
      "needs_background": "light"
     },
     "output_type": "display_data"
    }
   ],
   "source": [
    "\n",
    "\n",
    "plotStaircase(data_pref[0])\n",
    "plotStaircase(data_pref[1])"
   ]
  },
  {
   "cell_type": "code",
   "execution_count": null,
   "id": "a2236c0d-3433-43f8-b701-5417db1a0676",
   "metadata": {},
   "outputs": [],
   "source": []
  },
  {
   "cell_type": "code",
   "execution_count": null,
   "id": "7449ea00-3d27-4821-b6e9-7eeffa8ee101",
   "metadata": {},
   "outputs": [],
   "source": []
  },
  {
   "cell_type": "code",
   "execution_count": null,
   "id": "11af9c15-4b9c-4227-8d34-e0d7a73353b2",
   "metadata": {},
   "outputs": [],
   "source": []
  },
  {
   "cell_type": "code",
   "execution_count": null,
   "id": "52f0d31c-7fc9-44ef-a9e7-8b32e613b36c",
   "metadata": {},
   "outputs": [],
   "source": []
  }
 ],
 "metadata": {
  "kernelspec": {
   "display_name": "Python 3",
   "language": "python",
   "name": "python3"
  },
  "language_info": {
   "codemirror_mode": {
    "name": "ipython",
    "version": 3
   },
   "file_extension": ".py",
   "mimetype": "text/x-python",
   "name": "python",
   "nbconvert_exporter": "python",
   "pygments_lexer": "ipython3",
   "version": "3.8.8"
  }
 },
 "nbformat": 4,
 "nbformat_minor": 5
}
